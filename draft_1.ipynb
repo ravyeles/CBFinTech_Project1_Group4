{
 "cells": [
  {
   "cell_type": "code",
   "execution_count": 5,
   "metadata": {},
   "outputs": [],
   "source": [
    "# Initial imports\n",
    "import os\n",
    "import requests\n",
    "import json\n",
    "import pandas as pd\n",
    "from dotenv import load_dotenv\n",
    "import alpaca_trade_api as tradeapi"
   ]
  },
  {
   "cell_type": "code",
   "execution_count": 33,
   "metadata": {},
   "outputs": [],
   "source": [
    "#hardcoded variables to be replaced by user input and environment variable calls in the future\n",
    "tickers = ['MSFT','GOOG']\n",
    "start_date = '2020-01-01'\n",
    "end_date = '2020-12-31'\n",
    "timeframe = '1D'\n",
    "alpaca_api_key = 'PKURMS5ELMEHV4ZGBXTQ'\n",
    "alpaca_secret_key = 'NhYNWSU4szskB7qUMl2FXPqYoQZXwL50ahf54jds'"
   ]
  },
  {
   "cell_type": "code",
   "execution_count": 35,
   "metadata": {},
   "outputs": [
    {
     "ename": "NameError",
     "evalue": "name 'df_closing_prices' is not defined",
     "output_type": "error",
     "traceback": [
      "\u001b[1;31m---------------------------------------------------------------------------\u001b[0m",
      "\u001b[1;31mNameError\u001b[0m                                 Traceback (most recent call last)",
      "Cell \u001b[1;32mIn[35], line 15\u001b[0m\n\u001b[0;32m     13\u001b[0m \u001b[38;5;66;03m#Create a dataframe of closing prices\u001b[39;00m\n\u001b[0;32m     14\u001b[0m \u001b[38;5;28;01mfor\u001b[39;00m ticker \u001b[38;5;129;01min\u001b[39;00m tickers:\n\u001b[1;32m---> 15\u001b[0m     \u001b[43mdf_closing_prices\u001b[49m[ticker] \u001b[38;5;241m=\u001b[39m df_portfolio\u001b[38;5;241m.\u001b[39mgroupby(\u001b[38;5;124m'\u001b[39m\u001b[38;5;124msymbol\u001b[39m\u001b[38;5;124m'\u001b[39m)\u001b[38;5;241m.\u001b[39mclose\n\u001b[0;32m     16\u001b[0m \u001b[38;5;66;03m# Print the DataFrame\u001b[39;00m\n\u001b[0;32m     17\u001b[0m \u001b[38;5;28mprint\u001b[39m(df_closing_prices)\n",
      "\u001b[1;31mNameError\u001b[0m: name 'df_closing_prices' is not defined"
     ]
    }
   ],
   "source": [
    "# Create the Alpaca API object\n",
    "alpaca = tradeapi.REST(\n",
    "    alpaca_api_key,\n",
    "    alpaca_secret_key,\n",
    "    api_version=\"v2\")\n",
    "# Get current price data for tickers\n",
    "df_portfolio = alpaca.get_bars(\n",
    "    tickers,\n",
    "    timeframe,\n",
    "    start = start_date,\n",
    "    end = end_date\n",
    ").df\n",
    "#Create a dataframe of closing prices\n"
   ]
  },
  {
   "cell_type": "code",
   "execution_count": 31,
   "metadata": {},
   "outputs": [
    {
     "data": {
      "text/html": [
       "<div>\n",
       "<style scoped>\n",
       "    .dataframe tbody tr th:only-of-type {\n",
       "        vertical-align: middle;\n",
       "    }\n",
       "\n",
       "    .dataframe tbody tr th {\n",
       "        vertical-align: top;\n",
       "    }\n",
       "\n",
       "    .dataframe thead th {\n",
       "        text-align: right;\n",
       "    }\n",
       "</style>\n",
       "<table border=\"1\" class=\"dataframe\">\n",
       "  <thead>\n",
       "    <tr style=\"text-align: right;\">\n",
       "      <th></th>\n",
       "      <th>close</th>\n",
       "      <th>high</th>\n",
       "      <th>low</th>\n",
       "      <th>trade_count</th>\n",
       "      <th>open</th>\n",
       "      <th>volume</th>\n",
       "      <th>vwap</th>\n",
       "      <th>symbol</th>\n",
       "    </tr>\n",
       "    <tr>\n",
       "      <th>timestamp</th>\n",
       "      <th></th>\n",
       "      <th></th>\n",
       "      <th></th>\n",
       "      <th></th>\n",
       "      <th></th>\n",
       "      <th></th>\n",
       "      <th></th>\n",
       "      <th></th>\n",
       "    </tr>\n",
       "  </thead>\n",
       "  <tbody>\n",
       "    <tr>\n",
       "      <th>2020-01-02 05:00:00+00:00</th>\n",
       "      <td>1367.37</td>\n",
       "      <td>1368.14</td>\n",
       "      <td>1341.5500</td>\n",
       "      <td>41395</td>\n",
       "      <td>1341.55</td>\n",
       "      <td>1555727</td>\n",
       "      <td>1358.592568</td>\n",
       "      <td>GOOG</td>\n",
       "    </tr>\n",
       "    <tr>\n",
       "      <th>2020-01-03 05:00:00+00:00</th>\n",
       "      <td>1360.66</td>\n",
       "      <td>1372.50</td>\n",
       "      <td>1345.5436</td>\n",
       "      <td>28616</td>\n",
       "      <td>1347.86</td>\n",
       "      <td>1324192</td>\n",
       "      <td>1363.116060</td>\n",
       "      <td>GOOG</td>\n",
       "    </tr>\n",
       "    <tr>\n",
       "      <th>2020-01-06 05:00:00+00:00</th>\n",
       "      <td>1394.21</td>\n",
       "      <td>1396.50</td>\n",
       "      <td>1350.0000</td>\n",
       "      <td>43019</td>\n",
       "      <td>1350.00</td>\n",
       "      <td>1851121</td>\n",
       "      <td>1387.386204</td>\n",
       "      <td>GOOG</td>\n",
       "    </tr>\n",
       "    <tr>\n",
       "      <th>2020-01-07 05:00:00+00:00</th>\n",
       "      <td>1393.34</td>\n",
       "      <td>1402.99</td>\n",
       "      <td>1390.3800</td>\n",
       "      <td>37868</td>\n",
       "      <td>1397.94</td>\n",
       "      <td>1616127</td>\n",
       "      <td>1396.288195</td>\n",
       "      <td>GOOG</td>\n",
       "    </tr>\n",
       "    <tr>\n",
       "      <th>2020-01-08 05:00:00+00:00</th>\n",
       "      <td>1404.32</td>\n",
       "      <td>1411.58</td>\n",
       "      <td>1390.8400</td>\n",
       "      <td>38570</td>\n",
       "      <td>1392.08</td>\n",
       "      <td>1663718</td>\n",
       "      <td>1403.612932</td>\n",
       "      <td>GOOG</td>\n",
       "    </tr>\n",
       "  </tbody>\n",
       "</table>\n",
       "</div>"
      ],
      "text/plain": [
       "                             close     high        low  trade_count     open  \\\n",
       "timestamp                                                                      \n",
       "2020-01-02 05:00:00+00:00  1367.37  1368.14  1341.5500        41395  1341.55   \n",
       "2020-01-03 05:00:00+00:00  1360.66  1372.50  1345.5436        28616  1347.86   \n",
       "2020-01-06 05:00:00+00:00  1394.21  1396.50  1350.0000        43019  1350.00   \n",
       "2020-01-07 05:00:00+00:00  1393.34  1402.99  1390.3800        37868  1397.94   \n",
       "2020-01-08 05:00:00+00:00  1404.32  1411.58  1390.8400        38570  1392.08   \n",
       "\n",
       "                            volume         vwap symbol  \n",
       "timestamp                                               \n",
       "2020-01-02 05:00:00+00:00  1555727  1358.592568   GOOG  \n",
       "2020-01-03 05:00:00+00:00  1324192  1363.116060   GOOG  \n",
       "2020-01-06 05:00:00+00:00  1851121  1387.386204   GOOG  \n",
       "2020-01-07 05:00:00+00:00  1616127  1396.288195   GOOG  \n",
       "2020-01-08 05:00:00+00:00  1663718  1403.612932   GOOG  "
      ]
     },
     "execution_count": 31,
     "metadata": {},
     "output_type": "execute_result"
    }
   ],
   "source": []
  },
  {
   "cell_type": "code",
   "execution_count": null,
   "metadata": {},
   "outputs": [],
   "source": []
  }
 ],
 "metadata": {
  "kernelspec": {
   "display_name": "dev",
   "language": "python",
   "name": "python3"
  },
  "language_info": {
   "codemirror_mode": {
    "name": "ipython",
    "version": 3
   },
   "file_extension": ".py",
   "mimetype": "text/x-python",
   "name": "python",
   "nbconvert_exporter": "python",
   "pygments_lexer": "ipython3",
   "version": "3.10.13"
  }
 },
 "nbformat": 4,
 "nbformat_minor": 2
}
