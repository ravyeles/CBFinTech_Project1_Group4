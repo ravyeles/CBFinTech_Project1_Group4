{
 "cells": [
  {
   "cell_type": "code",
   "execution_count": 1,
   "metadata": {},
   "outputs": [],
   "source": [
    "import pandas"
   ]
  },
  {
   "cell_type": "code",
   "execution_count": 5,
   "metadata": {},
   "outputs": [
    {
     "name": "stdout",
     "output_type": "stream",
     "text": [
      "Your investment amount is 56999 and you'd like to invest for 45454454 years in the following stocks: 213,231321,321321,321321,3213,21321,321,321 and your preference is 2.\n"
     ]
    }
   ],
   "source": [
    "# Ask the user for the invesment amount\n",
    "investment = input(\"Enter your investment amount: \")\n",
    "# Ask the user for their investment time horizon (in years)\n",
    "years = input(\"Enter the number of years you'd like to invest for: \")\n",
    "# Ask the user for a list of at least 5 stock symbols and store the values in a list variable.\n",
    "stocks = input(\"Enter a list of at least 5 stock symbols (separate your list with commas): \")\n",
    "# Ask the user for the preference: High Return (3), Low Risk (1), or Balanced (2)\n",
    "preference = input(\"Enter your preference: High Return (3), Low Risk (1), or Balanced (2): \")\n",
    "# Display the investment amount and the investment time horizon and the stocks selected by the user.\n",
    "print(f\"Your investment amount is {investment} and you'd like to invest for {years} years in the following stocks: {stocks} and your preference is {preference}.\")"
   ]
  },
  {
   "cell_type": "code",
   "execution_count": null,
   "metadata": {},
   "outputs": [],
   "source": [
    "\n"
   ]
  },
  {
   "cell_type": "code",
   "execution_count": 40,
   "metadata": {},
   "outputs": [],
   "source": [
    "# Initial imports\n",
    "import requests\n",
    "import pandas as pd\n",
    "from dotenv import load_dotenv, find_dotenv\n",
    "import os \n",
    "import alpaca_trade_api as tradeapi\n",
    "import numpy as np\n",
    "from datetime import date\n"
   ]
  },
  {
   "cell_type": "code",
   "execution_count": 41,
   "metadata": {},
   "outputs": [],
   "source": [
    "#Load Environment Variables for Alpaca API\n",
    "alpaca_api_key =\"PKURMS5ELMEHV4ZGBXTQ\"\n",
    "alpaca_secret_key = \"NhYNWSU4szskB7qUMl2FXPqYoQZXwL50ahf54jds\"\n"
   ]
  },
  {
   "cell_type": "code",
   "execution_count": 60,
   "metadata": {},
   "outputs": [
    {
     "data": {
      "text/html": [
       "<div>\n",
       "<style scoped>\n",
       "    .dataframe tbody tr th:only-of-type {\n",
       "        vertical-align: middle;\n",
       "    }\n",
       "\n",
       "    .dataframe tbody tr th {\n",
       "        vertical-align: top;\n",
       "    }\n",
       "\n",
       "    .dataframe thead th {\n",
       "        text-align: right;\n",
       "    }\n",
       "</style>\n",
       "<table border=\"1\" class=\"dataframe\">\n",
       "  <thead>\n",
       "    <tr style=\"text-align: right;\">\n",
       "      <th></th>\n",
       "      <th>close</th>\n",
       "      <th>high</th>\n",
       "      <th>low</th>\n",
       "      <th>trade_count</th>\n",
       "      <th>open</th>\n",
       "      <th>volume</th>\n",
       "      <th>vwap</th>\n",
       "      <th>symbol</th>\n",
       "    </tr>\n",
       "    <tr>\n",
       "      <th>timestamp</th>\n",
       "      <th></th>\n",
       "      <th></th>\n",
       "      <th></th>\n",
       "      <th></th>\n",
       "      <th></th>\n",
       "      <th></th>\n",
       "      <th></th>\n",
       "      <th></th>\n",
       "    </tr>\n",
       "  </thead>\n",
       "  <tbody>\n",
       "    <tr>\n",
       "      <th>2023-02-21 05:00:00+00:00</th>\n",
       "      <td>148.48</td>\n",
       "      <td>151.30</td>\n",
       "      <td>148.4050</td>\n",
       "      <td>509345</td>\n",
       "      <td>150.20</td>\n",
       "      <td>68102432</td>\n",
       "      <td>149.257079</td>\n",
       "      <td>AAPL</td>\n",
       "    </tr>\n",
       "    <tr>\n",
       "      <th>2023-02-22 05:00:00+00:00</th>\n",
       "      <td>148.91</td>\n",
       "      <td>149.95</td>\n",
       "      <td>147.1600</td>\n",
       "      <td>429778</td>\n",
       "      <td>148.87</td>\n",
       "      <td>57571342</td>\n",
       "      <td>148.589063</td>\n",
       "      <td>AAPL</td>\n",
       "    </tr>\n",
       "    <tr>\n",
       "      <th>2023-02-23 05:00:00+00:00</th>\n",
       "      <td>149.40</td>\n",
       "      <td>150.34</td>\n",
       "      <td>147.2400</td>\n",
       "      <td>425163</td>\n",
       "      <td>150.09</td>\n",
       "      <td>53439807</td>\n",
       "      <td>148.898586</td>\n",
       "      <td>AAPL</td>\n",
       "    </tr>\n",
       "    <tr>\n",
       "      <th>2023-02-24 05:00:00+00:00</th>\n",
       "      <td>146.71</td>\n",
       "      <td>147.19</td>\n",
       "      <td>145.7202</td>\n",
       "      <td>470884</td>\n",
       "      <td>147.11</td>\n",
       "      <td>62617932</td>\n",
       "      <td>146.425361</td>\n",
       "      <td>AAPL</td>\n",
       "    </tr>\n",
       "    <tr>\n",
       "      <th>2023-02-27 05:00:00+00:00</th>\n",
       "      <td>147.92</td>\n",
       "      <td>149.17</td>\n",
       "      <td>147.4500</td>\n",
       "      <td>418071</td>\n",
       "      <td>147.71</td>\n",
       "      <td>50247854</td>\n",
       "      <td>148.109991</td>\n",
       "      <td>AAPL</td>\n",
       "    </tr>\n",
       "  </tbody>\n",
       "</table>\n",
       "</div>"
      ],
      "text/plain": [
       "                            close    high       low  trade_count    open  \\\n",
       "timestamp                                                                  \n",
       "2023-02-21 05:00:00+00:00  148.48  151.30  148.4050       509345  150.20   \n",
       "2023-02-22 05:00:00+00:00  148.91  149.95  147.1600       429778  148.87   \n",
       "2023-02-23 05:00:00+00:00  149.40  150.34  147.2400       425163  150.09   \n",
       "2023-02-24 05:00:00+00:00  146.71  147.19  145.7202       470884  147.11   \n",
       "2023-02-27 05:00:00+00:00  147.92  149.17  147.4500       418071  147.71   \n",
       "\n",
       "                             volume        vwap symbol  \n",
       "timestamp                                               \n",
       "2023-02-21 05:00:00+00:00  68102432  149.257079   AAPL  \n",
       "2023-02-22 05:00:00+00:00  57571342  148.589063   AAPL  \n",
       "2023-02-23 05:00:00+00:00  53439807  148.898586   AAPL  \n",
       "2023-02-24 05:00:00+00:00  62617932  146.425361   AAPL  \n",
       "2023-02-27 05:00:00+00:00  50247854  148.109991   AAPL  "
      ]
     },
     "execution_count": 60,
     "metadata": {},
     "output_type": "execute_result"
    }
   ],
   "source": [
    "stocks = ['AAPL', 'GOOGL'] #, 'AMZN', 'MSFT', 'TSLA']\n",
    "#Create Alpaca Trade API Object\n",
    "api = tradeapi.REST(\n",
    "    alpaca_api_key,\n",
    "    alpaca_secret_key,\n",
    "    api_version = \"v2\"\n",
    ")\n",
    "#Format current date as ISO format\n",
    "start_date = date(2023, 2, 20)\n",
    "end_date = date(2024, 2, 20)\n",
    "\n",
    "#set tickers based on stocks list\n",
    "tickers = stocks\n",
    "#set timeframe to one day ('1D') for the Alpaca API\n",
    "timeframe = \"1D\"\n",
    "#Get current closing prices for stocks\n",
    "df_portfolio = api.get_bars(\n",
    "    tickers,\n",
    "    timeframe,\n",
    "    start = start_date,\n",
    "    end = end_date\n",
    ").df\n",
    "#Preview DataFrame\n",
    "df_portfolio.head()"
   ]
  },
  {
   "cell_type": "code",
   "execution_count": 61,
   "metadata": {},
   "outputs": [
    {
     "data": {
      "text/html": [
       "<div>\n",
       "<style scoped>\n",
       "    .dataframe tbody tr th:only-of-type {\n",
       "        vertical-align: middle;\n",
       "    }\n",
       "\n",
       "    .dataframe tbody tr th {\n",
       "        vertical-align: top;\n",
       "    }\n",
       "\n",
       "    .dataframe thead th {\n",
       "        text-align: right;\n",
       "    }\n",
       "</style>\n",
       "<table border=\"1\" class=\"dataframe\">\n",
       "  <thead>\n",
       "    <tr style=\"text-align: right;\">\n",
       "      <th></th>\n",
       "      <th>close</th>\n",
       "      <th>symbol</th>\n",
       "    </tr>\n",
       "    <tr>\n",
       "      <th>timestamp</th>\n",
       "      <th></th>\n",
       "      <th></th>\n",
       "    </tr>\n",
       "  </thead>\n",
       "  <tbody>\n",
       "    <tr>\n",
       "      <th>2023-02-21 05:00:00+00:00</th>\n",
       "      <td>148.48</td>\n",
       "      <td>AAPL</td>\n",
       "    </tr>\n",
       "    <tr>\n",
       "      <th>2023-02-22 05:00:00+00:00</th>\n",
       "      <td>148.91</td>\n",
       "      <td>AAPL</td>\n",
       "    </tr>\n",
       "    <tr>\n",
       "      <th>2023-02-23 05:00:00+00:00</th>\n",
       "      <td>149.40</td>\n",
       "      <td>AAPL</td>\n",
       "    </tr>\n",
       "    <tr>\n",
       "      <th>2023-02-24 05:00:00+00:00</th>\n",
       "      <td>146.71</td>\n",
       "      <td>AAPL</td>\n",
       "    </tr>\n",
       "    <tr>\n",
       "      <th>2023-02-27 05:00:00+00:00</th>\n",
       "      <td>147.92</td>\n",
       "      <td>AAPL</td>\n",
       "    </tr>\n",
       "  </tbody>\n",
       "</table>\n",
       "</div>"
      ],
      "text/plain": [
       "                            close symbol\n",
       "timestamp                               \n",
       "2023-02-21 05:00:00+00:00  148.48   AAPL\n",
       "2023-02-22 05:00:00+00:00  148.91   AAPL\n",
       "2023-02-23 05:00:00+00:00  149.40   AAPL\n",
       "2023-02-24 05:00:00+00:00  146.71   AAPL\n",
       "2023-02-27 05:00:00+00:00  147.92   AAPL"
      ]
     },
     "execution_count": 61,
     "metadata": {},
     "output_type": "execute_result"
    }
   ],
   "source": [
    "df_portfolio = df_portfolio.drop(columns=['open', 'high', 'low', 'volume','trade_count','vwap'])\n",
    "df_portfolio.head()"
   ]
  },
  {
   "cell_type": "code",
   "execution_count": 65,
   "metadata": {},
   "outputs": [],
   "source": []
  },
  {
   "cell_type": "code",
   "execution_count": 71,
   "metadata": {},
   "outputs": [
    {
     "data": {
      "text/html": [
       "<div>\n",
       "<style scoped>\n",
       "    .dataframe tbody tr th:only-of-type {\n",
       "        vertical-align: middle;\n",
       "    }\n",
       "\n",
       "    .dataframe tbody tr th {\n",
       "        vertical-align: top;\n",
       "    }\n",
       "\n",
       "    .dataframe thead tr th {\n",
       "        text-align: left;\n",
       "    }\n",
       "\n",
       "    .dataframe thead tr:last-of-type th {\n",
       "        text-align: right;\n",
       "    }\n",
       "</style>\n",
       "<table border=\"1\" class=\"dataframe\">\n",
       "  <thead>\n",
       "    <tr>\n",
       "      <th></th>\n",
       "      <th colspan=\"2\" halign=\"left\">returns</th>\n",
       "    </tr>\n",
       "    <tr>\n",
       "      <th></th>\n",
       "      <th>mean</th>\n",
       "      <th>std</th>\n",
       "    </tr>\n",
       "    <tr>\n",
       "      <th>symbol</th>\n",
       "      <th></th>\n",
       "      <th></th>\n",
       "    </tr>\n",
       "  </thead>\n",
       "  <tbody>\n",
       "    <tr>\n",
       "      <th>AAPL</th>\n",
       "      <td>0.000878</td>\n",
       "      <td>0.012103</td>\n",
       "    </tr>\n",
       "    <tr>\n",
       "      <th>GOOGL</th>\n",
       "      <td>-0.000106</td>\n",
       "      <td>0.035757</td>\n",
       "    </tr>\n",
       "  </tbody>\n",
       "</table>\n",
       "</div>"
      ],
      "text/plain": [
       "         returns          \n",
       "            mean       std\n",
       "symbol                    \n",
       "AAPL    0.000878  0.012103\n",
       "GOOGL  -0.000106  0.035757"
      ]
     },
     "execution_count": 71,
     "metadata": {},
     "output_type": "execute_result"
    }
   ],
   "source": [
    "df_portfolio['returns'] = df_portfolio['close'].pct_change()\n",
    "df_portfolio['returns'] = df_portfolio['returns'].astype(float)\n",
    "df_portfolio.groupby('symbol').agg({'returns': ['mean', 'std']})"
   ]
  },
  {
   "cell_type": "code",
   "execution_count": null,
   "metadata": {},
   "outputs": [],
   "source": [
    "total_porf_return = df_portfolio['returns'].sum()\n"
   ]
  }
 ],
 "metadata": {
  "kernelspec": {
   "display_name": "dev",
   "language": "python",
   "name": "python3"
  },
  "language_info": {
   "codemirror_mode": {
    "name": "ipython",
    "version": 3
   },
   "file_extension": ".py",
   "mimetype": "text/x-python",
   "name": "python",
   "nbconvert_exporter": "python",
   "pygments_lexer": "ipython3",
   "version": "0.0.0"
  }
 },
 "nbformat": 4,
 "nbformat_minor": 2
}
