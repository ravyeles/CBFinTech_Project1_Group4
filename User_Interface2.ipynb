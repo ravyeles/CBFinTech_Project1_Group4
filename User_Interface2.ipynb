{
 "cells": [
  {
   "cell_type": "code",
   "execution_count": 21,
   "id": "5794f8ca-41b9-4cbf-8021-a897590b41a7",
   "metadata": {},
   "outputs": [],
   "source": [
    "#Initial imports\n",
    "import numpy as np\n",
    "import pandas as pd\n",
    "import hvplot.pandas\n",
    "import alpaca_trade_api as tradeapi\n",
    "import random as random\n",
    "#Ignore verbose warnings\n",
    "from warnings import simplefilter\n",
    "simplefilter(action=\"ignore\", category=pd.errors.PerformanceWarning)"
   ]
  },
  {
   "cell_type": "code",
   "execution_count": 22,
   "id": "85212c8d-5cd4-43fe-be3d-9770698b1fb8",
   "metadata": {
    "tags": []
   },
   "outputs": [],
   "source": [
    "#Function to simulate weights for the stocks to use in portfolio construction. It takes the list of tickers as input and the # of combinations the user would like to use\n",
    "def simulate_weights(tickers, no_of_trials):\n",
    "    numOfAssets=len(tickers)\n",
    "    trials = no_of_trials\n",
    "    overall_weights=[]\n",
    "    total = 0\n",
    "    for i in range(trials):\n",
    "        weights=[]\n",
    "        for i in range(numOfAssets):\n",
    "            weights.append(random.random())\n",
    "        total = sum(weights)\n",
    "        for i in range(len(weights)):\n",
    "            weights[i]=round(weights[i]/total,2)\n",
    "        overall_weights.append(weights)\n",
    "    #return weights list\n",
    "    return(overall_weights)"
   ]
  },
  {
   "cell_type": "code",
   "execution_count": 23,
   "id": "1c10f4c9-9e59-4ef2-8e66-fcd9af63e5f7",
   "metadata": {
    "tags": []
   },
   "outputs": [],
   "source": [
    "#Function to calculate the average return and the std_deviation of the stock prices for use in portfolio contruction.\n",
    "def calculate_stock_metrics(tickers):\n",
    "    start_date = '2020-01-01'\n",
    "    end_date = '2020-12-31'\n",
    "    timeframe = '1D'\n",
    "    alpaca_api_key = 'PKURMS5ELMEHV4ZGBXTQ'\n",
    "    alpaca_secret_key = 'NhYNWSU4szskB7qUMl2FXPqYoQZXwL50ahf54jds'\n",
    "    # Create the Alpaca API object\n",
    "    alpaca = tradeapi.REST(\n",
    "        alpaca_api_key,\n",
    "        alpaca_secret_key,\n",
    "        api_version=\"v2\")\n",
    "    # Get current price data for tickers\n",
    "    alpaca_df = alpaca.get_bars(\n",
    "        tickers,\n",
    "        timeframe,\n",
    "        start = start_date,\n",
    "        end = end_date\n",
    "    ).df\n",
    "    #Clean the stock data and store in a separate dataframe for analysis\n",
    "    alpaca_df = alpaca_df.drop(columns=['vwap','trade_count','open', 'high', 'low', 'volume'])\n",
    "    stock_df = pd.DataFrame(columns=['ticker','mean_close','mean_return'])#,'std_dev'])\n",
    "    counter = 0\n",
    "    for ticker in tickers:\n",
    "        #record the stock in stock_df\n",
    "        stock_df.at[counter, 'ticker'] = ticker\n",
    "        #calculate the mean price for the ticker\n",
    "        stock_df.at[counter,'mean_return'] = alpaca_df.groupby('symbol').get_group(ticker)['close'].pct_change().mean()\n",
    "        #calculate the mean daily return for the ticker\n",
    "        stock_df.at[counter,'mean_close'] = alpaca_df.groupby('symbol').get_group(ticker)['close'].mean()\n",
    "        #calculate the standard deviation of the daily return for the ticker\n",
    "        #stock_df.at[counter, 'std_dev'] = alpaca_df.groupby('symbol').get_group(ticker)['close'].pct_change().std()\n",
    "        counter += 1\n",
    "    return(stock_df)"
   ]
  },
  {
   "cell_type": "code",
   "execution_count": 24,
   "id": "88f4a709-26bc-4557-89af-5a94a13ea5fc",
   "metadata": {
    "tags": []
   },
   "outputs": [],
   "source": [
    "#hardcoded variables to be replaced by user input and environment variable calls in the future\n",
    "portfolio_stocks = ['MSFT','GOOG', 'AAPL', 'AMZN', 'TSLA']\n",
    "time_horizon = 365\n",
    "investment_amount = 100000\n",
    "no_of_trials = 1\n",
    "portfolio_weights = simulate_weights(portfolio_stocks,no_of_trials)\n",
    "portfolio_investment = np.array(portfolio_weights) * investment_amount\n",
    "stock_df = calculate_stock_metrics(portfolio_stocks)"
   ]
  },
  {
   "cell_type": "code",
   "execution_count": 25,
   "id": "af1a0565-7ff0-42f6-8680-c1e05fc29e1b",
   "metadata": {
    "tags": []
   },
   "outputs": [
    {
     "data": {
      "text/html": [
       "<div>\n",
       "<style scoped>\n",
       "    .dataframe tbody tr th:only-of-type {\n",
       "        vertical-align: middle;\n",
       "    }\n",
       "\n",
       "    .dataframe tbody tr th {\n",
       "        vertical-align: top;\n",
       "    }\n",
       "\n",
       "    .dataframe thead th {\n",
       "        text-align: right;\n",
       "    }\n",
       "</style>\n",
       "<table border=\"1\" class=\"dataframe\">\n",
       "  <thead>\n",
       "    <tr style=\"text-align: right;\">\n",
       "      <th></th>\n",
       "      <th>ticker</th>\n",
       "      <th>mean_close</th>\n",
       "      <th>mean_return</th>\n",
       "      <th>investment_amount</th>\n",
       "      <th>weight</th>\n",
       "    </tr>\n",
       "  </thead>\n",
       "  <tbody>\n",
       "    <tr>\n",
       "      <th>0</th>\n",
       "      <td>MSFT</td>\n",
       "      <td>193.038722</td>\n",
       "      <td>0.001672</td>\n",
       "      <td>38000.0</td>\n",
       "      <td>0.38</td>\n",
       "    </tr>\n",
       "    <tr>\n",
       "      <th>1</th>\n",
       "      <td>GOOG</td>\n",
       "      <td>1481.406933</td>\n",
       "      <td>0.001275</td>\n",
       "      <td>12000.0</td>\n",
       "      <td>0.12</td>\n",
       "    </tr>\n",
       "    <tr>\n",
       "      <th>2</th>\n",
       "      <td>AAPL</td>\n",
       "      <td>259.905933</td>\n",
       "      <td>-0.000384</td>\n",
       "      <td>9000.0</td>\n",
       "      <td>0.09</td>\n",
       "    </tr>\n",
       "    <tr>\n",
       "      <th>3</th>\n",
       "      <td>AMZN</td>\n",
       "      <td>2680.86336</td>\n",
       "      <td>0.002437</td>\n",
       "      <td>26000.0</td>\n",
       "      <td>0.26</td>\n",
       "    </tr>\n",
       "    <tr>\n",
       "      <th>4</th>\n",
       "      <td>TSLA</td>\n",
       "      <td>786.649684</td>\n",
       "      <td>0.006385</td>\n",
       "      <td>14000.0</td>\n",
       "      <td>0.14</td>\n",
       "    </tr>\n",
       "  </tbody>\n",
       "</table>\n",
       "</div>"
      ],
      "text/plain": [
       "  ticker   mean_close mean_return  investment_amount  weight\n",
       "0   MSFT   193.038722    0.001672            38000.0    0.38\n",
       "1   GOOG  1481.406933    0.001275            12000.0    0.12\n",
       "2   AAPL   259.905933   -0.000384             9000.0    0.09\n",
       "3   AMZN   2680.86336    0.002437            26000.0    0.26\n",
       "4   TSLA   786.649684    0.006385            14000.0    0.14"
      ]
     },
     "execution_count": 25,
     "metadata": {},
     "output_type": "execute_result"
    }
   ],
   "source": [
    "#loop through each row in the stock_df and calculate value of portfolio by multiplying the equivalent weight and the mean_close\n",
    "stock_df['investment_amount'] = 0\n",
    "stock_df['weight'] = 0\n",
    "for i in range(len(stock_df)):\n",
    "    stock_df.at[i,'weight'] = portfolio_weights[0][i]\n",
    "    stock_df.at[i,'investment_amount'] = portfolio_investment[0][i]\n",
    "    #stock_df.at[i,'mean_close']*portfolio_weights[0][i]\n",
    "#Convert the investment_amount and weight columns to float\n",
    "stock_df['investment_amount'] = stock_df['investment_amount'].astype(float)\n",
    "stock_df['weight'] = stock_df['weight'].astype(float)\n",
    "#Display the stock_df\n",
    "stock_df.head()"
   ]
  },
  {
   "cell_type": "code",
   "execution_count": null,
   "id": "7ec37459-6981-451a-a6a3-8a663188bac7",
   "metadata": {},
   "outputs": [],
   "source": []
  }
 ],
 "metadata": {
  "kernelspec": {
   "display_name": "Python 3 (ipykernel)",
   "language": "python",
   "name": "python3"
  },
  "language_info": {
   "codemirror_mode": {
    "name": "ipython",
    "version": 3
   },
   "file_extension": ".py",
   "mimetype": "text/x-python",
   "name": "python",
   "nbconvert_exporter": "python",
   "pygments_lexer": "ipython3",
   "version": "3.11.7"
  }
 },
 "nbformat": 4,
 "nbformat_minor": 5
}
