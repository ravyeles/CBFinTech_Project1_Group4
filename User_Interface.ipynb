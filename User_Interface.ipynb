{
 "cells": [
  {
   "cell_type": "code",
   "execution_count": 36,
   "id": "5794f8ca-41b9-4cbf-8021-a897590b41a7",
   "metadata": {},
   "outputs": [],
   "source": [
    "#Initial imports\n",
    "import pandas as pd\n",
    "import hvplot.pandas\n",
    "import panel as pn\n",
    "import holoviews as hv\n",
    "#hv.extention('bokeh')\n",
    "#pn.extention('tabulator')\n",
    "PALETTE = [\"#00204F\", \"#510063\", \"#9C8800\"]\n",
    "import alpaca_trade_api as tradeapi\n",
    "import random as random\n",
    "#Ignore verbose warnings\n",
    "from warnings import simplefilter\n",
    "simplefilter(action=\"ignore\", category=pd.errors.PerformanceWarning)"
   ]
  },
  {
   "cell_type": "code",
   "execution_count": 21,
   "id": "85212c8d-5cd4-43fe-be3d-9770698b1fb8",
   "metadata": {
    "tags": []
   },
   "outputs": [],
   "source": [
    "#Function to simulate weights for the stocks to use in portfolio construction. It takes the list of tickers as input and the # of combinations the user would like to use\n",
    "def simulate_weights(tickers, no_of_trials):\n",
    "    numOfAssets=len(tickers)\n",
    "    trials = no_of_trials\n",
    "    overall_weights=[]\n",
    "    total = 0\n",
    "    for i in range(trials):\n",
    "        weights=[]\n",
    "        for i in range(numOfAssets):\n",
    "            weights.append(random.random())\n",
    "        total = sum(weights)\n",
    "        for i in range(len(weights)):\n",
    "            weights[i]=round(weights[i]/total,2)\n",
    "        overall_weights.append(weights)\n",
    "    #return weights list\n",
    "    return(overall_weights)"
   ]
  },
  {
   "cell_type": "code",
   "execution_count": 22,
   "id": "1c10f4c9-9e59-4ef2-8e66-fcd9af63e5f7",
   "metadata": {
    "tags": []
   },
   "outputs": [],
   "source": [
    "#Function to calculate the average return and the std_deviation of the stock prices for use in portfolio contruction.\n",
    "def calculate_stock_metrics(tickers):\n",
    "    start_date = '2020-01-01'\n",
    "    end_date = '2020-12-31'\n",
    "    timeframe = '1D'\n",
    "    alpaca_api_key = 'PKURMS5ELMEHV4ZGBXTQ'\n",
    "    alpaca_secret_key = 'NhYNWSU4szskB7qUMl2FXPqYoQZXwL50ahf54jds'\n",
    "    # Create the Alpaca API object\n",
    "    alpaca = tradeapi.REST(\n",
    "        alpaca_api_key,\n",
    "        alpaca_secret_key,\n",
    "        api_version=\"v2\")\n",
    "    # Get current price data for tickers\n",
    "    alpaca_df = alpaca.get_bars(\n",
    "        tickers,\n",
    "        timeframe,\n",
    "        start = start_date,\n",
    "        end = end_date\n",
    "    ).df\n",
    "    #Clean the stock data and store in a separate dataframe for analysis\n",
    "    alpaca_df = alpaca_df.drop(columns=['vwap','trade_count','open', 'high', 'low', 'volume'])\n",
    "    stock_df = pd.DataFrame(columns=['ticker','mean_close','mean_return'])#,'std_dev'])\n",
    "    counter = 0\n",
    "    for ticker in tickers:\n",
    "        #record the stock in stock_df\n",
    "        stock_df.at[counter, 'ticker'] = ticker\n",
    "        #calculate the mean price for the ticker\n",
    "        stock_df.at[counter,'mean_return'] = alpaca_df.groupby('symbol').get_group(ticker)['close'].pct_change().mean()\n",
    "        #calculate the mean daily return for the ticker\n",
    "        stock_df.at[counter,'mean_close'] = alpaca_df.groupby('symbol').get_group(ticker)['close'].mean()\n",
    "        #calculate the standard deviation of the daily return for the ticker\n",
    "        #stock_df.at[counter, 'std_dev'] = alpaca_df.groupby('symbol').get_group(ticker)['close'].pct_change().std()\n",
    "        counter += 1\n",
    "    return(alpaca_df)\n",
    "    #return(stock_df)"
   ]
  },
  {
   "cell_type": "code",
   "execution_count": 23,
   "id": "88f4a709-26bc-4557-89af-5a94a13ea5fc",
   "metadata": {
    "tags": []
   },
   "outputs": [],
   "source": [
    "#hardcoded variables to be replaced by user input and environment variable calls in the future\n",
    "portfolio_stocks = ['MSFT','GOOG', 'AAPL', 'AMZN', 'TSLA']\n",
    "no_of_trials = 1\n",
    "portfolio_weights = simulate_weights(portfolio_stocks,no_of_trials)\n",
    "stock_df = calculate_stock_metrics(portfolio_stocks)"
   ]
  },
  {
   "cell_type": "code",
   "execution_count": 29,
   "id": "af1a0565-7ff0-42f6-8680-c1e05fc29e1b",
   "metadata": {
    "tags": []
   },
   "outputs": [],
   "source": [
    "idf = stock_df.interactive()\n"
   ]
  },
  {
   "cell_type": "code",
   "execution_count": 32,
   "id": "7ec37459-6981-451a-a6a3-8a663188bac7",
   "metadata": {},
   "outputs": [],
   "source": [
    "# Define Panel widgets\n",
    "cylinders = pn.widgets.IntSlider(name='Symbol', start=4, end=8, step=2)\n",
    "mfr = pn.widgets.ToggleGroup(\n",
    "    name='Symbol',\n",
    "    options=portfolio_stocks, \n",
    "    value=portfolio_stocks,\n",
    "    button_type='success')\n",
    "yaxis = pn.widgets.RadioButtonGroup(\n",
    "    name='Y axis', \n",
    "    options=['close', 'open'],\n",
    "    button_type='success'\n",
    ")\n"
   ]
  },
  {
   "cell_type": "code",
   "execution_count": 34,
   "id": "f7efac98-7bdc-4609-afa9-c71ec7f6c51a",
   "metadata": {
    "tags": []
   },
   "outputs": [],
   "source": [
    "# Combine pipeline and widgets\n",
    "ipipeline = (\n",
    "    idf[\n",
    "        (idf.symbol == cylinders) & \n",
    "        (idf.symbol.isin(mfr))\n",
    "    ]\n",
    "    .groupby(['symbol', 'timestamp'])[yaxis].mean()\n",
    "    .to_frame()\n",
    "    .reset_index()\n",
    "    .sort_values(by='timestamp')  \n",
    "    .reset_index(drop=True)\n",
    ")"
   ]
  },
  {
   "cell_type": "code",
   "execution_count": 38,
   "id": "a3bcb8fb-1511-4106-87fb-4b96a93615fb",
   "metadata": {
    "tags": []
   },
   "outputs": [
    {
     "ename": "SkipRendering",
     "evalue": "bokeh backend could not plot any Elements in the Overlay.",
     "output_type": "error",
     "traceback": [
      "\u001b[1;31m---------------------------------------------------------------------------\u001b[0m",
      "\u001b[1;31mSkipRendering\u001b[0m                             Traceback (most recent call last)",
      "File \u001b[1;32m~\\anaconda3\\envs\\dev\\lib\\site-packages\\IPython\\core\\formatters.py:974\u001b[0m, in \u001b[0;36mMimeBundleFormatter.__call__\u001b[1;34m(self, obj, include, exclude)\u001b[0m\n\u001b[0;32m    971\u001b[0m     method \u001b[38;5;241m=\u001b[39m get_real_method(obj, \u001b[38;5;28mself\u001b[39m\u001b[38;5;241m.\u001b[39mprint_method)\n\u001b[0;32m    973\u001b[0m     \u001b[38;5;28;01mif\u001b[39;00m method \u001b[38;5;129;01mis\u001b[39;00m \u001b[38;5;129;01mnot\u001b[39;00m \u001b[38;5;28;01mNone\u001b[39;00m:\n\u001b[1;32m--> 974\u001b[0m         \u001b[38;5;28;01mreturn\u001b[39;00m \u001b[43mmethod\u001b[49m\u001b[43m(\u001b[49m\u001b[43minclude\u001b[49m\u001b[38;5;241;43m=\u001b[39;49m\u001b[43minclude\u001b[49m\u001b[43m,\u001b[49m\u001b[43m \u001b[49m\u001b[43mexclude\u001b[49m\u001b[38;5;241;43m=\u001b[39;49m\u001b[43mexclude\u001b[49m\u001b[43m)\u001b[49m\n\u001b[0;32m    975\u001b[0m     \u001b[38;5;28;01mreturn\u001b[39;00m \u001b[38;5;28;01mNone\u001b[39;00m\n\u001b[0;32m    976\u001b[0m \u001b[38;5;28;01melse\u001b[39;00m:\n",
      "File \u001b[1;32m~\\anaconda3\\envs\\dev\\lib\\site-packages\\hvplot\\interactive.py:393\u001b[0m, in \u001b[0;36mInteractive._repr_mimebundle_\u001b[1;34m(self, include, exclude)\u001b[0m\n\u001b[0;32m    392\u001b[0m \u001b[38;5;28;01mdef\u001b[39;00m \u001b[38;5;21m_repr_mimebundle_\u001b[39m(\u001b[38;5;28mself\u001b[39m, include\u001b[38;5;241m=\u001b[39m[], exclude\u001b[38;5;241m=\u001b[39m[]):\n\u001b[1;32m--> 393\u001b[0m     \u001b[38;5;28;01mreturn\u001b[39;00m \u001b[38;5;28;43mself\u001b[39;49m\u001b[38;5;241;43m.\u001b[39;49m\u001b[43mlayout\u001b[49m\u001b[43m(\u001b[49m\u001b[43m)\u001b[49m\u001b[38;5;241;43m.\u001b[39;49m\u001b[43m_repr_mimebundle_\u001b[49m\u001b[43m(\u001b[49m\u001b[43m)\u001b[49m\n",
      "File \u001b[1;32m~\\anaconda3\\envs\\dev\\lib\\site-packages\\panel\\viewable.py:819\u001b[0m, in \u001b[0;36mViewable._repr_mimebundle_\u001b[1;34m(self, include, exclude)\u001b[0m\n\u001b[0;32m    817\u001b[0m doc \u001b[38;5;241m=\u001b[39m Document()\n\u001b[0;32m    818\u001b[0m comm \u001b[38;5;241m=\u001b[39m state\u001b[38;5;241m.\u001b[39m_comm_manager\u001b[38;5;241m.\u001b[39mget_server_comm()\n\u001b[1;32m--> 819\u001b[0m model \u001b[38;5;241m=\u001b[39m \u001b[38;5;28;43mself\u001b[39;49m\u001b[38;5;241;43m.\u001b[39;49m\u001b[43m_render_model\u001b[49m\u001b[43m(\u001b[49m\u001b[43mdoc\u001b[49m\u001b[43m,\u001b[49m\u001b[43m \u001b[49m\u001b[43mcomm\u001b[49m\u001b[43m)\u001b[49m\n\u001b[0;32m    820\u001b[0m \u001b[38;5;28;01mif\u001b[39;00m config\u001b[38;5;241m.\u001b[39membed:\n\u001b[0;32m    821\u001b[0m     \u001b[38;5;28;01mreturn\u001b[39;00m render_model(model)\n",
      "File \u001b[1;32m~\\anaconda3\\envs\\dev\\lib\\site-packages\\panel\\viewable.py:737\u001b[0m, in \u001b[0;36mViewable._render_model\u001b[1;34m(self, doc, comm)\u001b[0m\n\u001b[0;32m    735\u001b[0m \u001b[38;5;28;01mif\u001b[39;00m comm \u001b[38;5;129;01mis\u001b[39;00m \u001b[38;5;28;01mNone\u001b[39;00m:\n\u001b[0;32m    736\u001b[0m     comm \u001b[38;5;241m=\u001b[39m state\u001b[38;5;241m.\u001b[39m_comm_manager\u001b[38;5;241m.\u001b[39mget_server_comm()\n\u001b[1;32m--> 737\u001b[0m model \u001b[38;5;241m=\u001b[39m \u001b[38;5;28;43mself\u001b[39;49m\u001b[38;5;241;43m.\u001b[39;49m\u001b[43mget_root\u001b[49m\u001b[43m(\u001b[49m\u001b[43mdoc\u001b[49m\u001b[43m,\u001b[49m\u001b[43m \u001b[49m\u001b[43mcomm\u001b[49m\u001b[43m)\u001b[49m\n\u001b[0;32m    739\u001b[0m \u001b[38;5;28;01mif\u001b[39;00m \u001b[38;5;28mself\u001b[39m\u001b[38;5;241m.\u001b[39m_design \u001b[38;5;129;01mand\u001b[39;00m \u001b[38;5;28mself\u001b[39m\u001b[38;5;241m.\u001b[39m_design\u001b[38;5;241m.\u001b[39mtheme\u001b[38;5;241m.\u001b[39mbokeh_theme:\n\u001b[0;32m    740\u001b[0m     doc\u001b[38;5;241m.\u001b[39mtheme \u001b[38;5;241m=\u001b[39m \u001b[38;5;28mself\u001b[39m\u001b[38;5;241m.\u001b[39m_design\u001b[38;5;241m.\u001b[39mtheme\u001b[38;5;241m.\u001b[39mbokeh_theme\n",
      "File \u001b[1;32m~\\anaconda3\\envs\\dev\\lib\\site-packages\\panel\\layout\\base.py:306\u001b[0m, in \u001b[0;36mPanel.get_root\u001b[1;34m(self, doc, comm, preprocess)\u001b[0m\n\u001b[0;32m    302\u001b[0m \u001b[38;5;28;01mdef\u001b[39;00m \u001b[38;5;21mget_root\u001b[39m(\n\u001b[0;32m    303\u001b[0m     \u001b[38;5;28mself\u001b[39m, doc: Optional[Document] \u001b[38;5;241m=\u001b[39m \u001b[38;5;28;01mNone\u001b[39;00m, comm: Optional[Comm] \u001b[38;5;241m=\u001b[39m \u001b[38;5;28;01mNone\u001b[39;00m,\n\u001b[0;32m    304\u001b[0m     preprocess: \u001b[38;5;28mbool\u001b[39m \u001b[38;5;241m=\u001b[39m \u001b[38;5;28;01mTrue\u001b[39;00m\n\u001b[0;32m    305\u001b[0m ) \u001b[38;5;241m-\u001b[39m\u001b[38;5;241m>\u001b[39m Model:\n\u001b[1;32m--> 306\u001b[0m     root \u001b[38;5;241m=\u001b[39m \u001b[38;5;28;43msuper\u001b[39;49m\u001b[43m(\u001b[49m\u001b[43m)\u001b[49m\u001b[38;5;241;43m.\u001b[39;49m\u001b[43mget_root\u001b[49m\u001b[43m(\u001b[49m\u001b[43mdoc\u001b[49m\u001b[43m,\u001b[49m\u001b[43m \u001b[49m\u001b[43mcomm\u001b[49m\u001b[43m,\u001b[49m\u001b[43m \u001b[49m\u001b[43mpreprocess\u001b[49m\u001b[43m)\u001b[49m\n\u001b[0;32m    307\u001b[0m     \u001b[38;5;66;03m# ALERT: Find a better way to handle this\u001b[39;00m\n\u001b[0;32m    308\u001b[0m     \u001b[38;5;28;01mif\u001b[39;00m \u001b[38;5;28mhasattr\u001b[39m(root, \u001b[38;5;124m'\u001b[39m\u001b[38;5;124mstyles\u001b[39m\u001b[38;5;124m'\u001b[39m) \u001b[38;5;129;01mand\u001b[39;00m \u001b[38;5;124m'\u001b[39m\u001b[38;5;124moverflow-x\u001b[39m\u001b[38;5;124m'\u001b[39m \u001b[38;5;129;01min\u001b[39;00m root\u001b[38;5;241m.\u001b[39mstyles:\n",
      "File \u001b[1;32m~\\anaconda3\\envs\\dev\\lib\\site-packages\\panel\\viewable.py:659\u001b[0m, in \u001b[0;36mRenderable.get_root\u001b[1;34m(self, doc, comm, preprocess)\u001b[0m\n\u001b[0;32m    657\u001b[0m wrapper \u001b[38;5;241m=\u001b[39m \u001b[38;5;28mself\u001b[39m\u001b[38;5;241m.\u001b[39m_design\u001b[38;5;241m.\u001b[39m_wrapper(\u001b[38;5;28mself\u001b[39m)\n\u001b[0;32m    658\u001b[0m \u001b[38;5;28;01mif\u001b[39;00m wrapper \u001b[38;5;129;01mis\u001b[39;00m \u001b[38;5;28mself\u001b[39m:\n\u001b[1;32m--> 659\u001b[0m     root \u001b[38;5;241m=\u001b[39m \u001b[38;5;28;43mself\u001b[39;49m\u001b[38;5;241;43m.\u001b[39;49m\u001b[43m_get_model\u001b[49m\u001b[43m(\u001b[49m\u001b[43mdoc\u001b[49m\u001b[43m,\u001b[49m\u001b[43m \u001b[49m\u001b[43mcomm\u001b[49m\u001b[38;5;241;43m=\u001b[39;49m\u001b[43mcomm\u001b[49m\u001b[43m)\u001b[49m\n\u001b[0;32m    660\u001b[0m     \u001b[38;5;28;01mif\u001b[39;00m preprocess:\n\u001b[0;32m    661\u001b[0m         \u001b[38;5;28mself\u001b[39m\u001b[38;5;241m.\u001b[39m_preprocess(root)\n",
      "File \u001b[1;32m~\\anaconda3\\envs\\dev\\lib\\site-packages\\panel\\layout\\base.py:174\u001b[0m, in \u001b[0;36mPanel._get_model\u001b[1;34m(self, doc, root, parent, comm)\u001b[0m\n\u001b[0;32m    172\u001b[0m root \u001b[38;5;241m=\u001b[39m root \u001b[38;5;129;01mor\u001b[39;00m model\n\u001b[0;32m    173\u001b[0m \u001b[38;5;28mself\u001b[39m\u001b[38;5;241m.\u001b[39m_models[root\u001b[38;5;241m.\u001b[39mref[\u001b[38;5;124m'\u001b[39m\u001b[38;5;124mid\u001b[39m\u001b[38;5;124m'\u001b[39m]] \u001b[38;5;241m=\u001b[39m (model, parent)\n\u001b[1;32m--> 174\u001b[0m objects, _ \u001b[38;5;241m=\u001b[39m \u001b[38;5;28;43mself\u001b[39;49m\u001b[38;5;241;43m.\u001b[39;49m\u001b[43m_get_objects\u001b[49m\u001b[43m(\u001b[49m\u001b[43mmodel\u001b[49m\u001b[43m,\u001b[49m\u001b[43m \u001b[49m\u001b[43m[\u001b[49m\u001b[43m]\u001b[49m\u001b[43m,\u001b[49m\u001b[43m \u001b[49m\u001b[43mdoc\u001b[49m\u001b[43m,\u001b[49m\u001b[43m \u001b[49m\u001b[43mroot\u001b[49m\u001b[43m,\u001b[49m\u001b[43m \u001b[49m\u001b[43mcomm\u001b[49m\u001b[43m)\u001b[49m\n\u001b[0;32m    175\u001b[0m props \u001b[38;5;241m=\u001b[39m \u001b[38;5;28mself\u001b[39m\u001b[38;5;241m.\u001b[39m_get_properties(doc)\n\u001b[0;32m    176\u001b[0m props[\u001b[38;5;28mself\u001b[39m\u001b[38;5;241m.\u001b[39m_property_mapping[\u001b[38;5;124m'\u001b[39m\u001b[38;5;124mobjects\u001b[39m\u001b[38;5;124m'\u001b[39m]] \u001b[38;5;241m=\u001b[39m objects\n",
      "File \u001b[1;32m~\\anaconda3\\envs\\dev\\lib\\site-packages\\panel\\layout\\base.py:156\u001b[0m, in \u001b[0;36mPanel._get_objects\u001b[1;34m(self, model, old_objects, doc, root, comm)\u001b[0m\n\u001b[0;32m    154\u001b[0m \u001b[38;5;28;01melse\u001b[39;00m:\n\u001b[0;32m    155\u001b[0m     \u001b[38;5;28;01mtry\u001b[39;00m:\n\u001b[1;32m--> 156\u001b[0m         child \u001b[38;5;241m=\u001b[39m \u001b[43mpane\u001b[49m\u001b[38;5;241;43m.\u001b[39;49m\u001b[43m_get_model\u001b[49m\u001b[43m(\u001b[49m\u001b[43mdoc\u001b[49m\u001b[43m,\u001b[49m\u001b[43m \u001b[49m\u001b[43mroot\u001b[49m\u001b[43m,\u001b[49m\u001b[43m \u001b[49m\u001b[43mmodel\u001b[49m\u001b[43m,\u001b[49m\u001b[43m \u001b[49m\u001b[43mcomm\u001b[49m\u001b[43m)\u001b[49m\n\u001b[0;32m    157\u001b[0m     \u001b[38;5;28;01mexcept\u001b[39;00m RerenderError \u001b[38;5;28;01mas\u001b[39;00m e:\n\u001b[0;32m    158\u001b[0m         \u001b[38;5;28;01mif\u001b[39;00m e\u001b[38;5;241m.\u001b[39mlayout \u001b[38;5;129;01mis\u001b[39;00m \u001b[38;5;129;01mnot\u001b[39;00m \u001b[38;5;28;01mNone\u001b[39;00m \u001b[38;5;129;01mand\u001b[39;00m e\u001b[38;5;241m.\u001b[39mlayout \u001b[38;5;129;01mis\u001b[39;00m \u001b[38;5;129;01mnot\u001b[39;00m \u001b[38;5;28mself\u001b[39m:\n",
      "File \u001b[1;32m~\\anaconda3\\envs\\dev\\lib\\site-packages\\panel\\layout\\base.py:174\u001b[0m, in \u001b[0;36mPanel._get_model\u001b[1;34m(self, doc, root, parent, comm)\u001b[0m\n\u001b[0;32m    172\u001b[0m root \u001b[38;5;241m=\u001b[39m root \u001b[38;5;129;01mor\u001b[39;00m model\n\u001b[0;32m    173\u001b[0m \u001b[38;5;28mself\u001b[39m\u001b[38;5;241m.\u001b[39m_models[root\u001b[38;5;241m.\u001b[39mref[\u001b[38;5;124m'\u001b[39m\u001b[38;5;124mid\u001b[39m\u001b[38;5;124m'\u001b[39m]] \u001b[38;5;241m=\u001b[39m (model, parent)\n\u001b[1;32m--> 174\u001b[0m objects, _ \u001b[38;5;241m=\u001b[39m \u001b[38;5;28;43mself\u001b[39;49m\u001b[38;5;241;43m.\u001b[39;49m\u001b[43m_get_objects\u001b[49m\u001b[43m(\u001b[49m\u001b[43mmodel\u001b[49m\u001b[43m,\u001b[49m\u001b[43m \u001b[49m\u001b[43m[\u001b[49m\u001b[43m]\u001b[49m\u001b[43m,\u001b[49m\u001b[43m \u001b[49m\u001b[43mdoc\u001b[49m\u001b[43m,\u001b[49m\u001b[43m \u001b[49m\u001b[43mroot\u001b[49m\u001b[43m,\u001b[49m\u001b[43m \u001b[49m\u001b[43mcomm\u001b[49m\u001b[43m)\u001b[49m\n\u001b[0;32m    175\u001b[0m props \u001b[38;5;241m=\u001b[39m \u001b[38;5;28mself\u001b[39m\u001b[38;5;241m.\u001b[39m_get_properties(doc)\n\u001b[0;32m    176\u001b[0m props[\u001b[38;5;28mself\u001b[39m\u001b[38;5;241m.\u001b[39m_property_mapping[\u001b[38;5;124m'\u001b[39m\u001b[38;5;124mobjects\u001b[39m\u001b[38;5;124m'\u001b[39m]] \u001b[38;5;241m=\u001b[39m objects\n",
      "File \u001b[1;32m~\\anaconda3\\envs\\dev\\lib\\site-packages\\panel\\layout\\base.py:156\u001b[0m, in \u001b[0;36mPanel._get_objects\u001b[1;34m(self, model, old_objects, doc, root, comm)\u001b[0m\n\u001b[0;32m    154\u001b[0m \u001b[38;5;28;01melse\u001b[39;00m:\n\u001b[0;32m    155\u001b[0m     \u001b[38;5;28;01mtry\u001b[39;00m:\n\u001b[1;32m--> 156\u001b[0m         child \u001b[38;5;241m=\u001b[39m \u001b[43mpane\u001b[49m\u001b[38;5;241;43m.\u001b[39;49m\u001b[43m_get_model\u001b[49m\u001b[43m(\u001b[49m\u001b[43mdoc\u001b[49m\u001b[43m,\u001b[49m\u001b[43m \u001b[49m\u001b[43mroot\u001b[49m\u001b[43m,\u001b[49m\u001b[43m \u001b[49m\u001b[43mmodel\u001b[49m\u001b[43m,\u001b[49m\u001b[43m \u001b[49m\u001b[43mcomm\u001b[49m\u001b[43m)\u001b[49m\n\u001b[0;32m    157\u001b[0m     \u001b[38;5;28;01mexcept\u001b[39;00m RerenderError \u001b[38;5;28;01mas\u001b[39;00m e:\n\u001b[0;32m    158\u001b[0m         \u001b[38;5;28;01mif\u001b[39;00m e\u001b[38;5;241m.\u001b[39mlayout \u001b[38;5;129;01mis\u001b[39;00m \u001b[38;5;129;01mnot\u001b[39;00m \u001b[38;5;28;01mNone\u001b[39;00m \u001b[38;5;129;01mand\u001b[39;00m e\u001b[38;5;241m.\u001b[39mlayout \u001b[38;5;129;01mis\u001b[39;00m \u001b[38;5;129;01mnot\u001b[39;00m \u001b[38;5;28mself\u001b[39m:\n",
      "File \u001b[1;32m~\\anaconda3\\envs\\dev\\lib\\site-packages\\panel\\pane\\holoviews.py:411\u001b[0m, in \u001b[0;36mHoloViews._get_model\u001b[1;34m(self, doc, root, parent, comm)\u001b[0m\n\u001b[0;32m    409\u001b[0m     plot \u001b[38;5;241m=\u001b[39m \u001b[38;5;28mself\u001b[39m\u001b[38;5;241m.\u001b[39mobject\n\u001b[0;32m    410\u001b[0m \u001b[38;5;28;01melse\u001b[39;00m:\n\u001b[1;32m--> 411\u001b[0m     plot \u001b[38;5;241m=\u001b[39m \u001b[38;5;28;43mself\u001b[39;49m\u001b[38;5;241;43m.\u001b[39;49m\u001b[43m_render\u001b[49m\u001b[43m(\u001b[49m\u001b[43mdoc\u001b[49m\u001b[43m,\u001b[49m\u001b[43m \u001b[49m\u001b[43mcomm\u001b[49m\u001b[43m,\u001b[49m\u001b[43m \u001b[49m\u001b[43mroot\u001b[49m\u001b[43m)\u001b[49m\n\u001b[0;32m    413\u001b[0m plot\u001b[38;5;241m.\u001b[39mpane \u001b[38;5;241m=\u001b[39m \u001b[38;5;28mself\u001b[39m\n\u001b[0;32m    414\u001b[0m backend \u001b[38;5;241m=\u001b[39m plot\u001b[38;5;241m.\u001b[39mrenderer\u001b[38;5;241m.\u001b[39mbackend\n",
      "File \u001b[1;32m~\\anaconda3\\envs\\dev\\lib\\site-packages\\panel\\pane\\holoviews.py:506\u001b[0m, in \u001b[0;36mHoloViews._render\u001b[1;34m(self, doc, comm, root)\u001b[0m\n\u001b[0;32m    503\u001b[0m     \u001b[38;5;28;01mif\u001b[39;00m comm:\n\u001b[0;32m    504\u001b[0m         kwargs[\u001b[38;5;124m'\u001b[39m\u001b[38;5;124mcomm\u001b[39m\u001b[38;5;124m'\u001b[39m] \u001b[38;5;241m=\u001b[39m comm\n\u001b[1;32m--> 506\u001b[0m \u001b[38;5;28;01mreturn\u001b[39;00m renderer\u001b[38;5;241m.\u001b[39mget_plot(\u001b[38;5;28mself\u001b[39m\u001b[38;5;241m.\u001b[39mobject, \u001b[38;5;241m*\u001b[39m\u001b[38;5;241m*\u001b[39mkwargs)\n",
      "File \u001b[1;32m~\\anaconda3\\envs\\dev\\lib\\site-packages\\holoviews\\plotting\\bokeh\\renderer.py:70\u001b[0m, in \u001b[0;36mBokehRenderer.get_plot\u001b[1;34m(self_or_cls, obj, doc, renderer, **kwargs)\u001b[0m\n\u001b[0;32m     63\u001b[0m \u001b[38;5;129m@bothmethod\u001b[39m\n\u001b[0;32m     64\u001b[0m \u001b[38;5;28;01mdef\u001b[39;00m \u001b[38;5;21mget_plot\u001b[39m(self_or_cls, obj, doc\u001b[38;5;241m=\u001b[39m\u001b[38;5;28;01mNone\u001b[39;00m, renderer\u001b[38;5;241m=\u001b[39m\u001b[38;5;28;01mNone\u001b[39;00m, \u001b[38;5;241m*\u001b[39m\u001b[38;5;241m*\u001b[39mkwargs):\n\u001b[0;32m     65\u001b[0m \u001b[38;5;250m    \u001b[39m\u001b[38;5;124;03m\"\"\"\u001b[39;00m\n\u001b[0;32m     66\u001b[0m \u001b[38;5;124;03m    Given a HoloViews Viewable return a corresponding plot instance.\u001b[39;00m\n\u001b[0;32m     67\u001b[0m \u001b[38;5;124;03m    Allows supplying a document attach the plot to, useful when\u001b[39;00m\n\u001b[0;32m     68\u001b[0m \u001b[38;5;124;03m    combining the bokeh model with another plot.\u001b[39;00m\n\u001b[0;32m     69\u001b[0m \u001b[38;5;124;03m    \"\"\"\u001b[39;00m\n\u001b[1;32m---> 70\u001b[0m     plot \u001b[38;5;241m=\u001b[39m \u001b[38;5;28msuper\u001b[39m()\u001b[38;5;241m.\u001b[39mget_plot(obj, doc, renderer, \u001b[38;5;241m*\u001b[39m\u001b[38;5;241m*\u001b[39mkwargs)\n\u001b[0;32m     71\u001b[0m     \u001b[38;5;28;01mif\u001b[39;00m plot\u001b[38;5;241m.\u001b[39mdocument \u001b[38;5;129;01mis\u001b[39;00m \u001b[38;5;28;01mNone\u001b[39;00m:\n\u001b[0;32m     72\u001b[0m         plot\u001b[38;5;241m.\u001b[39mdocument \u001b[38;5;241m=\u001b[39m Document() \u001b[38;5;28;01mif\u001b[39;00m self_or_cls\u001b[38;5;241m.\u001b[39mnotebook_context \u001b[38;5;28;01melse\u001b[39;00m curdoc()\n",
      "File \u001b[1;32m~\\anaconda3\\envs\\dev\\lib\\site-packages\\holoviews\\plotting\\renderer.py:236\u001b[0m, in \u001b[0;36mRenderer.get_plot\u001b[1;34m(self_or_cls, obj, doc, renderer, comm, **kwargs)\u001b[0m\n\u001b[0;32m    234\u001b[0m \u001b[38;5;28;01mif\u001b[39;00m \u001b[38;5;28misinstance\u001b[39m(obj, AdjointLayout):\n\u001b[0;32m    235\u001b[0m     obj \u001b[38;5;241m=\u001b[39m Layout(obj)\n\u001b[1;32m--> 236\u001b[0m plot \u001b[38;5;241m=\u001b[39m self_or_cls\u001b[38;5;241m.\u001b[39mplotting_class(obj)(obj, renderer\u001b[38;5;241m=\u001b[39mrenderer,\n\u001b[0;32m    237\u001b[0m                                        \u001b[38;5;241m*\u001b[39m\u001b[38;5;241m*\u001b[39mplot_opts)\n\u001b[0;32m    238\u001b[0m defaults \u001b[38;5;241m=\u001b[39m [kd\u001b[38;5;241m.\u001b[39mdefault \u001b[38;5;28;01mfor\u001b[39;00m kd \u001b[38;5;129;01min\u001b[39;00m plot\u001b[38;5;241m.\u001b[39mdimensions]\n\u001b[0;32m    239\u001b[0m init_key \u001b[38;5;241m=\u001b[39m \u001b[38;5;28mtuple\u001b[39m(v \u001b[38;5;28;01mif\u001b[39;00m d \u001b[38;5;129;01mis\u001b[39;00m \u001b[38;5;28;01mNone\u001b[39;00m \u001b[38;5;28;01melse\u001b[39;00m d \u001b[38;5;28;01mfor\u001b[39;00m v, d \u001b[38;5;129;01min\u001b[39;00m\n\u001b[0;32m    240\u001b[0m                  \u001b[38;5;28mzip\u001b[39m(plot\u001b[38;5;241m.\u001b[39mkeys[\u001b[38;5;241m0\u001b[39m], defaults))\n",
      "File \u001b[1;32m~\\anaconda3\\envs\\dev\\lib\\site-packages\\holoviews\\plotting\\bokeh\\element.py:2531\u001b[0m, in \u001b[0;36mOverlayPlot.__init__\u001b[1;34m(self, overlay, **kwargs)\u001b[0m\n\u001b[0;32m   2529\u001b[0m \u001b[38;5;28;01mdef\u001b[39;00m \u001b[38;5;21m__init__\u001b[39m(\u001b[38;5;28mself\u001b[39m, overlay, \u001b[38;5;241m*\u001b[39m\u001b[38;5;241m*\u001b[39mkwargs):\n\u001b[0;32m   2530\u001b[0m     \u001b[38;5;28mself\u001b[39m\u001b[38;5;241m.\u001b[39m_multi_y_propagation \u001b[38;5;241m=\u001b[39m \u001b[38;5;28mself\u001b[39m\u001b[38;5;241m.\u001b[39mlookup_options(overlay, \u001b[38;5;124m'\u001b[39m\u001b[38;5;124mplot\u001b[39m\u001b[38;5;124m'\u001b[39m)\u001b[38;5;241m.\u001b[39moptions\u001b[38;5;241m.\u001b[39mget(\u001b[38;5;124m'\u001b[39m\u001b[38;5;124mmulti_y\u001b[39m\u001b[38;5;124m'\u001b[39m, \u001b[38;5;28;01mFalse\u001b[39;00m)\n\u001b[1;32m-> 2531\u001b[0m     \u001b[38;5;28msuper\u001b[39m()\u001b[38;5;241m.\u001b[39m\u001b[38;5;21m__init__\u001b[39m(overlay, \u001b[38;5;241m*\u001b[39m\u001b[38;5;241m*\u001b[39mkwargs)\n\u001b[0;32m   2532\u001b[0m     \u001b[38;5;28mself\u001b[39m\u001b[38;5;241m.\u001b[39m_multi_y_propagation \u001b[38;5;241m=\u001b[39m \u001b[38;5;28;01mFalse\u001b[39;00m\n",
      "File \u001b[1;32m~\\anaconda3\\envs\\dev\\lib\\site-packages\\holoviews\\plotting\\plot.py:1713\u001b[0m, in \u001b[0;36mGenericOverlayPlot.__init__\u001b[1;34m(self, overlay, ranges, batched, keys, group_counter, **params)\u001b[0m\n\u001b[0;32m   1711\u001b[0m \u001b[38;5;28mself\u001b[39m\u001b[38;5;241m.\u001b[39mcyclic_index_lookup \u001b[38;5;241m=\u001b[39m {}\n\u001b[0;32m   1712\u001b[0m \u001b[38;5;28mself\u001b[39m\u001b[38;5;241m.\u001b[39mzoffset \u001b[38;5;241m=\u001b[39m \u001b[38;5;241m0\u001b[39m\n\u001b[1;32m-> 1713\u001b[0m \u001b[38;5;28mself\u001b[39m\u001b[38;5;241m.\u001b[39msubplots \u001b[38;5;241m=\u001b[39m \u001b[38;5;28;43mself\u001b[39;49m\u001b[38;5;241;43m.\u001b[39;49m\u001b[43m_create_subplots\u001b[49m\u001b[43m(\u001b[49m\u001b[43mranges\u001b[49m\u001b[43m)\u001b[49m\n\u001b[0;32m   1714\u001b[0m \u001b[38;5;28mself\u001b[39m\u001b[38;5;241m.\u001b[39mtraverse(\u001b[38;5;28;01mlambda\u001b[39;00m x: \u001b[38;5;28msetattr\u001b[39m(x, \u001b[38;5;124m'\u001b[39m\u001b[38;5;124mcomm\u001b[39m\u001b[38;5;124m'\u001b[39m, \u001b[38;5;28mself\u001b[39m\u001b[38;5;241m.\u001b[39mcomm))\n\u001b[0;32m   1715\u001b[0m \u001b[38;5;28mself\u001b[39m\u001b[38;5;241m.\u001b[39mtop_level \u001b[38;5;241m=\u001b[39m keys \u001b[38;5;129;01mis\u001b[39;00m \u001b[38;5;28;01mNone\u001b[39;00m\n",
      "File \u001b[1;32m~\\anaconda3\\envs\\dev\\lib\\site-packages\\holoviews\\plotting\\plot.py:1783\u001b[0m, in \u001b[0;36mGenericOverlayPlot._create_subplots\u001b[1;34m(self, ranges)\u001b[0m\n\u001b[0;32m   1780\u001b[0m         \u001b[38;5;28mself\u001b[39m\u001b[38;5;241m.\u001b[39mzoffset \u001b[38;5;241m+\u001b[39m\u001b[38;5;241m=\u001b[39m \u001b[38;5;28mlen\u001b[39m(subplot\u001b[38;5;241m.\u001b[39msubplots\u001b[38;5;241m.\u001b[39mkeys()) \u001b[38;5;241m-\u001b[39m \u001b[38;5;241m1\u001b[39m\n\u001b[0;32m   1782\u001b[0m \u001b[38;5;28;01mif\u001b[39;00m \u001b[38;5;129;01mnot\u001b[39;00m subplots:\n\u001b[1;32m-> 1783\u001b[0m     \u001b[38;5;28;01mraise\u001b[39;00m SkipRendering(\u001b[38;5;124m\"\u001b[39m\u001b[38;5;132;01m%s\u001b[39;00m\u001b[38;5;124m backend could not plot any Elements \u001b[39m\u001b[38;5;124m\"\u001b[39m\n\u001b[0;32m   1784\u001b[0m                         \u001b[38;5;124m\"\u001b[39m\u001b[38;5;124min the Overlay.\u001b[39m\u001b[38;5;124m\"\u001b[39m \u001b[38;5;241m%\u001b[39m \u001b[38;5;28mself\u001b[39m\u001b[38;5;241m.\u001b[39mrenderer\u001b[38;5;241m.\u001b[39mbackend)\n\u001b[0;32m   1785\u001b[0m \u001b[38;5;28;01mreturn\u001b[39;00m subplots\n",
      "\u001b[1;31mSkipRendering\u001b[0m: bokeh backend could not plot any Elements in the Overlay."
     ]
    },
    {
     "data": {
      "text/plain": [
       "<hvplot.interactive.Interactive at 0x1ae2bf42d10>"
      ]
     },
     "execution_count": 38,
     "metadata": {},
     "output_type": "execute_result"
    }
   ],
   "source": [
    "ivhplot = ipipeline.hvplot(x='timestamp', y=yaxis, by='symbol', color=PALETTE, line_width=6)\n",
    "ivhplot"
   ]
  },
  {
   "cell_type": "code",
   "execution_count": null,
   "id": "8653f94e-3a3c-43c8-bc5b-de5de217ea55",
   "metadata": {},
   "outputs": [],
   "source": []
  }
 ],
 "metadata": {
  "kernelspec": {
   "display_name": "Python 3 (ipykernel)",
   "language": "python",
   "name": "python3"
  },
  "language_info": {
   "codemirror_mode": {
    "name": "ipython",
    "version": 3
   },
   "file_extension": ".py",
   "mimetype": "text/x-python",
   "name": "python",
   "nbconvert_exporter": "python",
   "pygments_lexer": "ipython3",
   "version": "3.11.7"
  }
 },
 "nbformat": 4,
 "nbformat_minor": 5
}
